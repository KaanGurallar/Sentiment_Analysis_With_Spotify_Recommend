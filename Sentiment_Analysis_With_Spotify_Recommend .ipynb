{
 "cells": [
  {
   "cell_type": "code",
   "execution_count": 63,
   "id": "35dce361",
   "metadata": {},
   "outputs": [],
   "source": [
    "import pandas as pd\n",
    "import numpy as np \n",
    "import matplotlib.pyplot as plt\n",
    "import seaborn as sns\n",
    "%matplotlib inline \n",
    "import scipy.stats as stats\n",
    "\n",
    "import string\n",
    "import nltk\n",
    "from nltk import tokenize\n",
    "from nltk.corpus import stopwords\n",
    "from nltk.stem import WordNetLemmatizer\n",
    "\n",
    "from sklearn.feature_extraction.text import CountVectorizer, TfidfVectorizer\n",
    "from sklearn.model_selection import train_test_split\n",
    "from sklearn.preprocessing import LabelEncoder\n",
    "from sklearn.ensemble import RandomForestClassifier\n",
    "from sklearn.naive_bayes import MultinomialNB\n",
    "from sklearn.metrics import accuracy_score,precision_score,recall_score,confusion_matrix,roc_curve,classification_report"
   ]
  },
  {
   "cell_type": "markdown",
   "id": "27342d96",
   "metadata": {},
   "source": [
    "![](spotify.png)"
   ]
  },
  {
   "cell_type": "code",
   "execution_count": 64,
   "id": "c60dfb26",
   "metadata": {},
   "outputs": [],
   "source": [
    "df=pd.read_csv('reviews.csv')"
   ]
  },
  {
   "cell_type": "code",
   "execution_count": 65,
   "id": "9e8113ed",
   "metadata": {
    "scrolled": true
   },
   "outputs": [
    {
     "data": {
      "text/html": [
       "<div>\n",
       "<style scoped>\n",
       "    .dataframe tbody tr th:only-of-type {\n",
       "        vertical-align: middle;\n",
       "    }\n",
       "\n",
       "    .dataframe tbody tr th {\n",
       "        vertical-align: top;\n",
       "    }\n",
       "\n",
       "    .dataframe thead th {\n",
       "        text-align: right;\n",
       "    }\n",
       "</style>\n",
       "<table border=\"1\" class=\"dataframe\">\n",
       "  <thead>\n",
       "    <tr style=\"text-align: right;\">\n",
       "      <th></th>\n",
       "      <th>Time_submitted</th>\n",
       "      <th>Review</th>\n",
       "      <th>Rating</th>\n",
       "      <th>Total_thumbsup</th>\n",
       "      <th>Reply</th>\n",
       "    </tr>\n",
       "  </thead>\n",
       "  <tbody>\n",
       "    <tr>\n",
       "      <th>0</th>\n",
       "      <td>2022-07-09 15:00:00</td>\n",
       "      <td>Great music service, the audio is high quality and the app is easy to use. Also very quick and friendly support.</td>\n",
       "      <td>5</td>\n",
       "      <td>2</td>\n",
       "      <td>NaN</td>\n",
       "    </tr>\n",
       "    <tr>\n",
       "      <th>1</th>\n",
       "      <td>2022-07-09 14:21:22</td>\n",
       "      <td>Please ignore previous negative rating. This app is super great. I give it five stars+</td>\n",
       "      <td>5</td>\n",
       "      <td>1</td>\n",
       "      <td>NaN</td>\n",
       "    </tr>\n",
       "    <tr>\n",
       "      <th>2</th>\n",
       "      <td>2022-07-09 13:27:32</td>\n",
       "      <td>This pop-up \"Get the best Spotify experience on Android 12\" is too annoying. Please let's get rid of this.</td>\n",
       "      <td>4</td>\n",
       "      <td>0</td>\n",
       "      <td>NaN</td>\n",
       "    </tr>\n",
       "    <tr>\n",
       "      <th>3</th>\n",
       "      <td>2022-07-09 13:26:45</td>\n",
       "      <td>Really buggy and terrible to use as of recently</td>\n",
       "      <td>1</td>\n",
       "      <td>1</td>\n",
       "      <td>NaN</td>\n",
       "    </tr>\n",
       "    <tr>\n",
       "      <th>4</th>\n",
       "      <td>2022-07-09 13:20:49</td>\n",
       "      <td>Dear Spotify why do I get songs that I didn't put on my playlist??? And why do we have shuffle play?</td>\n",
       "      <td>1</td>\n",
       "      <td>1</td>\n",
       "      <td>NaN</td>\n",
       "    </tr>\n",
       "  </tbody>\n",
       "</table>\n",
       "</div>"
      ],
      "text/plain": [
       "        Time_submitted  \\\n",
       "0  2022-07-09 15:00:00   \n",
       "1  2022-07-09 14:21:22   \n",
       "2  2022-07-09 13:27:32   \n",
       "3  2022-07-09 13:26:45   \n",
       "4  2022-07-09 13:20:49   \n",
       "\n",
       "                                                                                                             Review  \\\n",
       "0  Great music service, the audio is high quality and the app is easy to use. Also very quick and friendly support.   \n",
       "1                            Please ignore previous negative rating. This app is super great. I give it five stars+   \n",
       "2        This pop-up \"Get the best Spotify experience on Android 12\" is too annoying. Please let's get rid of this.   \n",
       "3                                                                   Really buggy and terrible to use as of recently   \n",
       "4              Dear Spotify why do I get songs that I didn't put on my playlist??? And why do we have shuffle play?   \n",
       "\n",
       "   Rating  Total_thumbsup Reply  \n",
       "0       5               2   NaN  \n",
       "1       5               1   NaN  \n",
       "2       4               0   NaN  \n",
       "3       1               1   NaN  \n",
       "4       1               1   NaN  "
      ]
     },
     "execution_count": 65,
     "metadata": {},
     "output_type": "execute_result"
    }
   ],
   "source": [
    "df.head()"
   ]
  },
  {
   "cell_type": "code",
   "execution_count": 66,
   "id": "c67303f4",
   "metadata": {},
   "outputs": [
    {
     "data": {
      "text/plain": [
       "(61594, 5)"
      ]
     },
     "execution_count": 66,
     "metadata": {},
     "output_type": "execute_result"
    }
   ],
   "source": [
    "df.shape"
   ]
  },
  {
   "cell_type": "code",
   "execution_count": 67,
   "id": "3bef91ad",
   "metadata": {},
   "outputs": [],
   "source": [
    "df.drop(['Time_submitted','Total_thumbsup','Reply'],axis=1,inplace=True)"
   ]
  },
  {
   "cell_type": "markdown",
   "id": "dfdc4f5f",
   "metadata": {},
   "source": [
    "###### With this chart, I check whether there is missing data."
   ]
  },
  {
   "cell_type": "code",
   "execution_count": 68,
   "id": "767c1e23",
   "metadata": {},
   "outputs": [
    {
     "data": {
      "text/plain": [
       "<AxesSubplot:>"
      ]
     },
     "execution_count": 68,
     "metadata": {},
     "output_type": "execute_result"
    },
    {
     "data": {
      "image/png": "[encoded data removed]",
      "text/plain": [
       "<Figure size 432x288 with 1 Axes>"
      ]
     },
     "metadata": {
      "needs_background": "light"
     },
     "output_type": "display_data"
    }
   ],
   "source": [
    "sns.heatmap(df.isnull(),yticklabels=False,cbar=False,cmap='viridis')"
   ]
  },
  {
   "cell_type": "code",
   "execution_count": 69,
   "id": "4f1dc249",
   "metadata": {},
   "outputs": [],
   "source": [
    "df_copy=df.copy()"
   ]
  },
  {
   "cell_type": "code",
   "execution_count": 70,
   "id": "d17a2266",
   "metadata": {},
   "outputs": [],
   "source": [
    "def transform_ratings1(rating):\n",
    "    if rating == 5:\n",
    "        return \"Excellent\"\n",
    "    if rating == 4:\n",
    "        return \"Good\"\n",
    "    if rating == 3:\n",
    "        return \"Average\"\n",
    "    if rating == 2 :\n",
    "        return \"Fair\"\n",
    "    if rating == 1:\n",
    "        return \"Poor\"   "
   ]
  },
  {
   "cell_type": "code",
   "execution_count": 71,
   "id": "2da94e3a",
   "metadata": {},
   "outputs": [],
   "source": [
    "df['Rating'] = df['Rating'].apply(transform_ratings1)"
   ]
  },
  {
   "cell_type": "code",
   "execution_count": 72,
   "id": "192d8c71",
   "metadata": {},
   "outputs": [
    {
     "data": {
      "text/plain": [
       "<matplotlib.patches.Circle at 0x229866ace50>"
      ]
     },
     "execution_count": 72,
     "metadata": {},
     "output_type": "execute_result"
    },
    {
     "data": {
      "image/png": "[encoded data removed]",
      "text/plain": [
       "<Figure size 576x576 with 1 Axes>"
      ]
     },
     "metadata": {},
     "output_type": "display_data"
    }
   ],
   "source": [
    "plt.figure(figsize=(8,8))\n",
    "plt.pie(x=df['Rating'].value_counts(),labels=df['Rating'].value_counts().index,\n",
    "        explode=[0,0.02,0.04,0.06,0.06],shadow=False,autopct='%1.1f%%',colors=['#1D5B79','#468B97','#EF6262','#F3AA60','#E9B384'])\n",
    "plt.title('Rating')\n",
    "circle = plt.Circle(xy=(0,0),radius=0.8,facecolor = 'white')\n",
    "plt.gca().add_artist(circle)\n"
   ]
  },
  {
   "cell_type": "code",
   "execution_count": 17,
   "id": "af5afc13",
   "metadata": {},
   "outputs": [],
   "source": [
    "df2 = df[['Review']].copy()"
   ]
  },
  {
   "cell_type": "code",
   "execution_count": 18,
   "id": "3876e659",
   "metadata": {},
   "outputs": [],
   "source": [
    "df2=df2[\"Review\"].apply(lambda x: \" \".join(x.lower() for x in x.split()))"
   ]
  },
  {
   "cell_type": "markdown",
   "id": "1d649772",
   "metadata": {},
   "source": [
    "## Cleaning of Punctuation Marks"
   ]
  },
  {
   "cell_type": "code",
   "execution_count": 19,
   "id": "b03c2ecd",
   "metadata": {},
   "outputs": [],
   "source": [
    "df2 = pd.DataFrame(df2, columns = [\"Review\"])"
   ]
  },
  {
   "cell_type": "code",
   "execution_count": 20,
   "id": "0f7b3b5c",
   "metadata": {},
   "outputs": [],
   "source": [
    "df2=df2['Review'].str.replace(\"[^\\w\\s]\",\"\",regex=True)"
   ]
  },
  {
   "cell_type": "markdown",
   "id": "23ce6a51",
   "metadata": {},
   "source": [
    "## Removing Numbers"
   ]
  },
  {
   "cell_type": "code",
   "execution_count": 21,
   "id": "f6df9a51",
   "metadata": {},
   "outputs": [],
   "source": [
    "df2=df2.str.replace(\"\\d\",\"\",regex=True)"
   ]
  },
  {
   "cell_type": "code",
   "execution_count": 22,
   "id": "84407ee6",
   "metadata": {},
   "outputs": [],
   "source": [
    "df2 = pd.DataFrame(df2, columns = [\"Review\"])"
   ]
  },
  {
   "cell_type": "markdown",
   "id": "e2ecc443",
   "metadata": {},
   "source": [
    "## Removing Stop Words"
   ]
  },
  {
   "cell_type": "code",
   "execution_count": 23,
   "id": "9efcc377",
   "metadata": {},
   "outputs": [],
   "source": [
    "import nltk"
   ]
  },
  {
   "cell_type": "code",
   "execution_count": 24,
   "id": "7f2fa7c0",
   "metadata": {},
   "outputs": [],
   "source": [
    "from nltk.corpus import stopwords"
   ]
  },
  {
   "cell_type": "code",
   "execution_count": 25,
   "id": "9e0e1f8c",
   "metadata": {},
   "outputs": [],
   "source": [
    "sw = stopwords.words(\"english\")"
   ]
  },
  {
   "cell_type": "code",
   "execution_count": 26,
   "id": "a23dc154",
   "metadata": {},
   "outputs": [],
   "source": [
    "df2=df2[\"Review\"].apply(lambda x: \" \".join(x for x in x.split() if x not in sw))"
   ]
  },
  {
   "cell_type": "code",
   "execution_count": 27,
   "id": "92fc47ab",
   "metadata": {},
   "outputs": [],
   "source": [
    "df2 = pd.DataFrame(df2, columns = [\"Review\"])"
   ]
  },
  {
   "cell_type": "markdown",
   "id": "df95b7f1",
   "metadata": {},
   "source": [
    "## Lemmatize"
   ]
  },
  {
   "cell_type": "code",
   "execution_count": 28,
   "id": "5fc43ee2",
   "metadata": {},
   "outputs": [],
   "source": [
    "import textblob"
   ]
  },
  {
   "cell_type": "code",
   "execution_count": 29,
   "id": "fb3a8e34",
   "metadata": {},
   "outputs": [],
   "source": [
    "from textblob import Word"
   ]
  },
  {
   "cell_type": "code",
   "execution_count": 31,
   "id": "b9e60ccc",
   "metadata": {},
   "outputs": [],
   "source": [
    "df2= df2['Review'].apply(lambda x: \" \".join([Word(word).lemmatize() for word in x.split()])) "
   ]
  },
  {
   "cell_type": "code",
   "execution_count": 32,
   "id": "3901b260",
   "metadata": {},
   "outputs": [],
   "source": [
    "df2 = pd.DataFrame(df2, columns = [\"Review\"])"
   ]
  },
  {
   "cell_type": "markdown",
   "id": "fe7ab47c",
   "metadata": {},
   "source": [
    "## Splitting  The Data"
   ]
  },
  {
   "cell_type": "code",
   "execution_count": 33,
   "id": "6e5fa5ea",
   "metadata": {},
   "outputs": [],
   "source": [
    "X = df2['Review']\n",
    "y = df['Rating']\n",
    "\n",
    "X_train, X_test, y_train, y_test = train_test_split(X, y, test_size=0.33, random_state=101)"
   ]
  },
  {
   "cell_type": "markdown",
   "id": "1c9c6376",
   "metadata": {},
   "source": [
    "## Label Encoding"
   ]
  },
  {
   "cell_type": "code",
   "execution_count": 34,
   "id": "5abe6b8d",
   "metadata": {},
   "outputs": [
    {
     "data": {
      "text/plain": [
       "LabelEncoder()"
      ]
     },
     "execution_count": 34,
     "metadata": {},
     "output_type": "execute_result"
    }
   ],
   "source": [
    "label_encoder = LabelEncoder()\n",
    "label_encoder .fit(y_train)"
   ]
  },
  {
   "cell_type": "code",
   "execution_count": 35,
   "id": "9198c935",
   "metadata": {},
   "outputs": [],
   "source": [
    "y_train =label_encoder.transform(y_train)\n",
    "y_test =label_encoder.transform(y_test)"
   ]
  },
  {
   "cell_type": "markdown",
   "id": "6f17f08f",
   "metadata": {},
   "source": [
    "## Count Vectorization "
   ]
  },
  {
   "cell_type": "code",
   "execution_count": 36,
   "id": "42df013a",
   "metadata": {},
   "outputs": [
    {
     "data": {
      "text/plain": [
       "CountVectorizer()"
      ]
     },
     "execution_count": 36,
     "metadata": {},
     "output_type": "execute_result"
    }
   ],
   "source": [
    "vectorizer = CountVectorizer()\n",
    "vectorizer.fit(X_train)"
   ]
  },
  {
   "cell_type": "code",
   "execution_count": 37,
   "id": "ef4c3e8b",
   "metadata": {},
   "outputs": [],
   "source": [
    "x_train_count = vectorizer.transform(X_train)\n",
    "x_test_count = vectorizer.transform(X_test)"
   ]
  },
  {
   "cell_type": "markdown",
   "id": "35dd0b9d",
   "metadata": {},
   "source": [
    "## TF-IDF"
   ]
  },
  {
   "cell_type": "code",
   "execution_count": 38,
   "id": "f3ab13fa",
   "metadata": {},
   "outputs": [
    {
     "data": {
      "text/plain": [
       "TfidfVectorizer()"
      ]
     },
     "execution_count": 38,
     "metadata": {},
     "output_type": "execute_result"
    }
   ],
   "source": [
    "tf_idf_word_vectorizer = TfidfVectorizer()\n",
    "tf_idf_word_vectorizer.fit(X_train)"
   ]
  },
  {
   "cell_type": "code",
   "execution_count": 39,
   "id": "70318559",
   "metadata": {},
   "outputs": [],
   "source": [
    "x_train_tf_idf_word = tf_idf_word_vectorizer.transform(X_train)\n",
    "x_test_tf_idf_word = tf_idf_word_vectorizer.transform(X_test)"
   ]
  },
  {
   "cell_type": "code",
   "execution_count": 40,
   "id": "bf0a9903",
   "metadata": {},
   "outputs": [
    {
     "data": {
      "text/plain": [
       "TfidfVectorizer(ngram_range=(2, 3))"
      ]
     },
     "execution_count": 40,
     "metadata": {},
     "output_type": "execute_result"
    }
   ],
   "source": [
    "tf_idf_ngram_vectorizer = TfidfVectorizer(ngram_range = (2,3))\n",
    "tf_idf_ngram_vectorizer.fit(X_train)"
   ]
  },
  {
   "cell_type": "code",
   "execution_count": 41,
   "id": "c67d75f4",
   "metadata": {},
   "outputs": [],
   "source": [
    "x_train_tf_idf_ngram = tf_idf_ngram_vectorizer.transform(X_train)\n",
    "x_test_tf_idf_ngram = tf_idf_ngram_vectorizer.transform(X_test)"
   ]
  },
  {
   "cell_type": "code",
   "execution_count": 42,
   "id": "e59becb4",
   "metadata": {},
   "outputs": [
    {
     "data": {
      "text/plain": [
       "TfidfVectorizer(analyzer='char', ngram_range=(2, 3))"
      ]
     },
     "execution_count": 42,
     "metadata": {},
     "output_type": "execute_result"
    }
   ],
   "source": [
    "tf_idf_chars_vectorizer = TfidfVectorizer(analyzer = \"char\", ngram_range = (2,3))\n",
    "tf_idf_chars_vectorizer.fit(X_train)"
   ]
  },
  {
   "cell_type": "code",
   "execution_count": 43,
   "id": "89ed1bfd",
   "metadata": {},
   "outputs": [],
   "source": [
    "x_train_tf_idf_chars = tf_idf_chars_vectorizer.transform(X_train)\n",
    "x_test_tf_idf_chars = tf_idf_chars_vectorizer.transform(X_test)"
   ]
  },
  {
   "cell_type": "markdown",
   "id": "0c3aaa3e",
   "metadata": {},
   "source": [
    "## Sentiment Analysis with Machine Learning"
   ]
  },
  {
   "cell_type": "markdown",
   "id": "3a9f67c9",
   "metadata": {},
   "source": [
    "###### Logistic Regression (Ordinal)"
   ]
  },
  {
   "cell_type": "code",
   "execution_count": 44,
   "id": "89e8e060",
   "metadata": {},
   "outputs": [],
   "source": [
    "from sklearn.linear_model import LogisticRegression"
   ]
  },
  {
   "cell_type": "code",
   "execution_count": 45,
   "id": "0296ef6a",
   "metadata": {},
   "outputs": [],
   "source": [
    "from sklearn import model_selection"
   ]
  },
  {
   "cell_type": "code",
   "execution_count": 46,
   "id": "2d2e93fe",
   "metadata": {},
   "outputs": [],
   "source": [
    "from warnings import filterwarnings\n",
    "filterwarnings('ignore')"
   ]
  },
  {
   "cell_type": "code",
   "execution_count": 47,
   "id": "b943045f",
   "metadata": {},
   "outputs": [],
   "source": [
    "from sklearn.metrics import confusion_matrix, accuracy_score, classification_report"
   ]
  },
  {
   "cell_type": "code",
   "execution_count": 121,
   "id": "1f1934c4",
   "metadata": {},
   "outputs": [
    {
     "name": "stdout",
     "output_type": "stream",
     "text": [
      "Count Vectors Accuray Score: 0.5844452604854545\n"
     ]
    }
   ],
   "source": [
    "log_model=LogisticRegression(solver='lbfgs')\n",
    "log_model=log_model.fit(x_train_count,y_train)\n",
    "accuracy = model_selection.cross_val_score(log_model,x_test_count,y_test,cv = 10).mean()\n",
    "\n",
    "print(\"Count Vectors Accuray Score:\", accuracy)"
   ]
  },
  {
   "cell_type": "code",
   "execution_count": 48,
   "id": "d89a6b5e",
   "metadata": {},
   "outputs": [
    {
     "name": "stdout",
     "output_type": "stream",
     "text": [
      "Word-Level TF-IDF Accuray Score: 0.6093367652241946\n"
     ]
    }
   ],
   "source": [
    "log_model1=LogisticRegression(solver='lbfgs')\n",
    "log_model1=log_model1.fit(x_train_tf_idf_word,y_train)\n",
    "accuracy1= model_selection.cross_val_score(log_model1,x_test_tf_idf_word,y_test,cv = 10).mean()\n",
    "\n",
    "print(\"Word-Level TF-IDF Accuray Score:\", accuracy1)"
   ]
  },
  {
   "cell_type": "markdown",
   "id": "160a026c",
   "metadata": {},
   "source": [
    "###### Naive Bayes "
   ]
  },
  {
   "cell_type": "code",
   "execution_count": 122,
   "id": "0d2e2c50",
   "metadata": {},
   "outputs": [],
   "source": [
    "from sklearn.naive_bayes import MultinomialNB"
   ]
  },
  {
   "cell_type": "code",
   "execution_count": 123,
   "id": "29a11316",
   "metadata": {},
   "outputs": [
    {
     "name": "stdout",
     "output_type": "stream",
     "text": [
      "Count Vectors Accuray Score: 0.5975303167035257\n"
     ]
    }
   ],
   "source": [
    "nb_model=MultinomialNB()\n",
    "nb_model=nb_model.fit(x_train_count,y_train)\n",
    "accuracy = model_selection.cross_val_score(nb_model,x_test_count,y_test,cv = 10).mean()\n",
    "\n",
    "print(\"Count Vectors Accuray Score:\", accuracy)"
   ]
  },
  {
   "cell_type": "code",
   "execution_count": 124,
   "id": "31e745e6",
   "metadata": {},
   "outputs": [
    {
     "name": "stdout",
     "output_type": "stream",
     "text": [
      "Word-Level TF-IDF Accuray Score: 0.5887737421133967\n"
     ]
    }
   ],
   "source": [
    "nb_model =MultinomialNB()\n",
    "nb_model = nb_model.fit(x_train_tf_idf_word,y_train)\n",
    "accuracy = model_selection.cross_val_score(nb_model,x_test_tf_idf_word, y_test, cv = 10).mean()\n",
    "\n",
    "print(\"Word-Level TF-IDF Accuray Score:\", accuracy)"
   ]
  },
  {
   "cell_type": "code",
   "execution_count": 125,
   "id": "3b9239be",
   "metadata": {},
   "outputs": [
    {
     "name": "stdout",
     "output_type": "stream",
     "text": [
      "CHARLEVEL Accuray Score: 0.5749985233799784\n"
     ]
    }
   ],
   "source": [
    "nb_model=MultinomialNB()\n",
    "nb_model = nb_model.fit(x_train_tf_idf_chars,y_train)\n",
    "accuracy = model_selection.cross_val_score(nb_model,x_test_tf_idf_chars,y_test,cv = 10).mean()\n",
    "\n",
    "print(\"CHARLEVEL Accuray Score:\", accuracy)"
   ]
  },
  {
   "cell_type": "markdown",
   "id": "bf1ec041",
   "metadata": {},
   "source": [
    "###### Random Forest"
   ]
  },
  {
   "cell_type": "code",
   "execution_count": 126,
   "id": "99a481fe",
   "metadata": {},
   "outputs": [],
   "source": [
    "rf=RandomForestClassifier()"
   ]
  },
  {
   "cell_type": "code",
   "execution_count": 127,
   "id": "2f7f6b35",
   "metadata": {},
   "outputs": [
    {
     "name": "stdout",
     "output_type": "stream",
     "text": [
      "Count Vectors Accuray Score: 0.5854281326614792\n"
     ]
    }
   ],
   "source": [
    "rf_model=rf.fit(x_train_count,y_train)\n",
    "accuracy = model_selection.cross_val_score(rf_model,x_test_count,y_test,cv = 10).mean()\n",
    "\n",
    "print(\"Count Vectors Accuray Score:\", accuracy)"
   ]
  },
  {
   "cell_type": "code",
   "execution_count": 128,
   "id": "2ecb5d95",
   "metadata": {},
   "outputs": [
    {
     "name": "stdout",
     "output_type": "stream",
     "text": [
      "Word-Level TF-IDF Accuray Score: 0.5858214703455968\n"
     ]
    }
   ],
   "source": [
    "rf =RandomForestClassifier()\n",
    "rf_model = rf.fit(x_train_tf_idf_word,y_train)\n",
    "accuracy = model_selection.cross_val_score(rf_model,x_test_tf_idf_word,y_test,cv = 10).mean()\n",
    "\n",
    "print(\"Word-Level TF-IDF Accuray Score:\", accuracy)"
   ]
  },
  {
   "cell_type": "code",
   "execution_count": 129,
   "id": "b97ae335",
   "metadata": {},
   "outputs": [
    {
     "name": "stdout",
     "output_type": "stream",
     "text": [
      "CHARLEVEL Accuray Score: 0.5668318463850406\n"
     ]
    }
   ],
   "source": [
    "rf =RandomForestClassifier()\n",
    "rf_model = rf.fit(x_train_tf_idf_chars,y_train)\n",
    "accuracy = model_selection.cross_val_score(rf_model,x_test_tf_idf_chars,y_test,cv = 10).mean()\n",
    "\n",
    "print(\"CHARLEVEL Accuray Score:\", accuracy)"
   ]
  },
  {
   "cell_type": "markdown",
   "id": "c08d6157",
   "metadata": {},
   "source": [
    "###### XGBOOST"
   ]
  },
  {
   "cell_type": "code",
   "execution_count": 130,
   "id": "23736797",
   "metadata": {},
   "outputs": [],
   "source": [
    "import xgboost"
   ]
  },
  {
   "cell_type": "code",
   "execution_count": 131,
   "id": "7cb40569",
   "metadata": {},
   "outputs": [],
   "source": [
    "from xgboost import XGBClassifier"
   ]
  },
  {
   "cell_type": "code",
   "execution_count": 132,
   "id": "cd0ef9ec",
   "metadata": {},
   "outputs": [
    {
     "name": "stdout",
     "output_type": "stream",
     "text": [
      "Count Vectors Accuray Score: 0.5981695721384557\n"
     ]
    }
   ],
   "source": [
    "xgb =XGBClassifier()\n",
    "xgb_model = xgb.fit(x_train_count,y_train)\n",
    "accuracy = model_selection.cross_val_score(xgb_model,x_test_count,y_test,cv = 10).mean()\n",
    "\n",
    "print(\"Count Vectors Accuray Score:\", accuracy)"
   ]
  },
  {
   "cell_type": "code",
   "execution_count": 133,
   "id": "8aa3eaf6",
   "metadata": {},
   "outputs": [
    {
     "name": "stdout",
     "output_type": "stream",
     "text": [
      "Word-Level TF-IDF Accuray Score: 0.5923645189026727\n"
     ]
    }
   ],
   "source": [
    "xgb =XGBClassifier()\n",
    "xgb_model = xgb.fit(x_train_tf_idf_word,y_train)\n",
    "accuracy = model_selection.cross_val_score(xgb_model,x_test_tf_idf_word,y_test,cv = 10).mean()\n",
    "\n",
    "print(\"Word-Level TF-IDF Accuray Score:\", accuracy)"
   ]
  },
  {
   "cell_type": "code",
   "execution_count": 134,
   "id": "3f19a7f6",
   "metadata": {},
   "outputs": [
    {
     "name": "stdout",
     "output_type": "stream",
     "text": [
      "CHARLEVEL Accuray Score: 0.5891187628538562\n"
     ]
    }
   ],
   "source": [
    "xgb =XGBClassifier()\n",
    "xgb_model = xgb.fit(x_train_tf_idf_chars,y_train)\n",
    "accuracy = model_selection.cross_val_score(xgb_model,x_test_tf_idf_chars,y_test,cv = 10).mean()\n",
    "\n",
    "print(\"CHARLEVEL Accuray Score:\", accuracy)"
   ]
  },
  {
   "cell_type": "markdown",
   "id": "dce9f4f7",
   "metadata": {},
   "source": [
    "### TEST"
   ]
  },
  {
   "cell_type": "code",
   "execution_count": 49,
   "id": "0ea6ff65",
   "metadata": {},
   "outputs": [
    {
     "data": {
      "text/plain": [
       "TfidfVectorizer()"
      ]
     },
     "execution_count": 49,
     "metadata": {},
     "output_type": "execute_result"
    }
   ],
   "source": [
    "test= TfidfVectorizer()\n",
    "test.fit(X_train)"
   ]
  },
  {
   "cell_type": "code",
   "execution_count": 61,
   "id": "e3c37b69",
   "metadata": {},
   "outputs": [],
   "source": [
    "test_reviews = ['This is a great app!', 'Uncomfortable UI, always lagging','I like the song selection, but the ads are annoying','I dont use this app','Premium opportunities are good but its expensive']\n",
    "pred = log_model1.predict(test.transform(test_reviews))\n",
    "pred_transformed = label_encoder.inverse_transform(pred).tolist()"
   ]
  },
  {
   "cell_type": "code",
   "execution_count": 62,
   "id": "60f7b1c6",
   "metadata": {},
   "outputs": [
    {
     "data": {
      "text/html": [
       "<div>\n",
       "<style scoped>\n",
       "    .dataframe tbody tr th:only-of-type {\n",
       "        vertical-align: middle;\n",
       "    }\n",
       "\n",
       "    .dataframe tbody tr th {\n",
       "        vertical-align: top;\n",
       "    }\n",
       "\n",
       "    .dataframe thead th {\n",
       "        text-align: right;\n",
       "    }\n",
       "</style>\n",
       "<table border=\"1\" class=\"dataframe\">\n",
       "  <thead>\n",
       "    <tr style=\"text-align: right;\">\n",
       "      <th></th>\n",
       "      <th>Reviews</th>\n",
       "      <th>Outcome</th>\n",
       "    </tr>\n",
       "  </thead>\n",
       "  <tbody>\n",
       "    <tr>\n",
       "      <th>0</th>\n",
       "      <td>This is a great app!</td>\n",
       "      <td>Excellent</td>\n",
       "    </tr>\n",
       "    <tr>\n",
       "      <th>1</th>\n",
       "      <td>Uncomfortable UI, always lagging</td>\n",
       "      <td>Poor</td>\n",
       "    </tr>\n",
       "    <tr>\n",
       "      <th>2</th>\n",
       "      <td>I like the song selection, but the ads are annoying</td>\n",
       "      <td>Average</td>\n",
       "    </tr>\n",
       "    <tr>\n",
       "      <th>3</th>\n",
       "      <td>I dont use this app</td>\n",
       "      <td>Poor</td>\n",
       "    </tr>\n",
       "    <tr>\n",
       "      <th>4</th>\n",
       "      <td>Premium opportunities are good but its expensive</td>\n",
       "      <td>Good</td>\n",
       "    </tr>\n",
       "  </tbody>\n",
       "</table>\n",
       "</div>"
      ],
      "text/plain": [
       "                                               Reviews    Outcome\n",
       "0                                 This is a great app!  Excellent\n",
       "1                     Uncomfortable UI, always lagging       Poor\n",
       "2  I like the song selection, but the ads are annoying    Average\n",
       "3                                  I dont use this app       Poor\n",
       "4     Premium opportunities are good but its expensive       Good"
      ]
     },
     "execution_count": 62,
     "metadata": {},
     "output_type": "execute_result"
    }
   ],
   "source": [
    "result = pd.DataFrame({'Reviews':test_reviews, \n",
    "                       'Outcome': pred_transformed})\n",
    "result"
   ]
  },
  {
   "cell_type": "code",
   "execution_count": null,
   "id": "1495e37f",
   "metadata": {},
   "outputs": [],
   "source": []
  }
 ],
 "metadata": {
  "kernelspec": {
   "display_name": "Python 3",
   "language": "python",
   "name": "python3"
  },
  "language_info": {
   "codemirror_mode": {
    "name": "ipython",
    "version": 3
   },
   "file_extension": ".py",
   "mimetype": "text/x-python",
   "name": "python",
   "nbconvert_exporter": "python",
   "pygments_lexer": "ipython3",
   "version": "3.8.8"
  }
 },
 "nbformat": 4,
 "nbformat_minor": 5
}
